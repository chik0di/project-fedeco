{
 "cells": [
  {
   "cell_type": "markdown",
   "metadata": {},
   "source": [
    "dummy-data-generate-bulk-insert"
   ]
  },
  {
   "cell_type": "code",
   "execution_count": 4,
   "metadata": {},
   "outputs": [],
   "source": [
    "import pandas as pd\n",
    "import random\n",
    "from faker import Faker\n",
    "from sqlalchemy import create_engine\n",
    "import pyodbc"
   ]
  },
  {
   "cell_type": "code",
   "execution_count": 8,
   "metadata": {},
   "outputs": [
    {
     "name": "stdout",
     "output_type": "stream",
     "text": [
      "(1, 'Abia                                              ', 'Umuahia                                           ', 'South-East')\n",
      "(2, 'Adamawa                                           ', 'Yola                                              ', 'North-East')\n",
      "(3, 'Akwa Ibom                                         ', 'Uyo                                               ', 'South-South')\n",
      "(4, 'Anambra                                           ', 'Awka                                              ', 'South-East')\n",
      "(5, 'Bauchi                                            ', 'Bauchi                                            ', 'North-East')\n",
      "(6, 'Bayelsa                                           ', 'Yenagoa                                           ', 'South-South')\n",
      "(7, 'Benue                                             ', 'Makurdi                                           ', 'North-Central')\n",
      "(8, 'Borno                                             ', 'Maiduguri                                         ', 'North-East')\n",
      "(9, 'Cross River                                       ', 'Calabar                                           ', 'South-South')\n",
      "(10, 'Delta                                             ', 'Asaba                                             ', 'South-South')\n",
      "(11, 'Ebonyi                                            ', 'Abakaliki                                         ', 'South-East')\n",
      "(12, 'Edo                                               ', 'Benin City                                        ', 'South-South')\n",
      "(13, 'Ekiti                                             ', 'Ado-Ekiti                                         ', 'South-West')\n",
      "(14, 'Enugu                                             ', 'Enugu                                             ', 'South-East')\n",
      "(15, 'FCT                                               ', 'Abuja                                             ', 'North-Central')\n",
      "(16, 'Gombe                                             ', 'Gombe                                             ', 'North-East')\n",
      "(17, 'Imo                                               ', 'Owerri                                            ', 'South-East')\n",
      "(18, 'Jigawa                                            ', 'Dutse                                             ', 'North-West')\n",
      "(19, 'Kaduna                                            ', 'Kaduna                                            ', 'North-West')\n",
      "(20, 'Kano                                              ', 'Kano                                              ', 'North-West')\n",
      "(21, 'Katsina                                           ', 'Katsina                                           ', 'North-West')\n",
      "(22, 'Kebbi                                             ', 'Birnin Kebbi                                      ', 'North-West')\n",
      "(23, 'Kogi                                              ', 'Lokoja                                            ', 'North-Central')\n",
      "(24, 'Kwara                                             ', 'Ilorin                                            ', 'North-Central')\n",
      "(25, 'Lagos                                             ', 'Ikeja                                             ', 'South-West')\n",
      "(26, 'Nasarawa                                          ', 'Lafia                                             ', 'North-Central')\n",
      "(27, 'Niger                                             ', 'Minna                                             ', 'North-Central')\n",
      "(28, 'Ogun                                              ', 'Abeokuta                                          ', 'South-West')\n",
      "(29, 'Ondo                                              ', 'Akure                                             ', 'South-West')\n",
      "(30, 'Osun                                              ', 'Oshogbo                                           ', 'South-West')\n",
      "(31, 'Oyo                                               ', 'Ibadan                                            ', 'South-West')\n",
      "(32, 'Plateau                                           ', 'Jos                                               ', 'North-Central')\n",
      "(33, 'Rivers                                            ', 'Port Harcourt                                     ', 'South-South')\n",
      "(34, 'Sokoto                                            ', 'Sokoto                                            ', 'North-West')\n",
      "(35, 'Taraba                                            ', 'Jalingo                                           ', 'North-East')\n",
      "(36, 'Yobe                                              ', 'Damaturu                                          ', 'North-East')\n",
      "(37, 'Zamfara                                           ', 'Gusau                                             ', 'North-West')\n"
     ]
    }
   ],
   "source": [
    "conn = pyodbc.connect(\n",
    "    \"DRIVER={ODBC Driver 17 for SQL Server};\"\n",
    "    \"SERVER=DESKTOP-DGGI0QJ\\\\SQLEXPRESS;\"\n",
    "    \"DATABASE=fedeco;\"\n",
    "    \"Trusted_Connection=yes;\"\n",
    ")\n",
    "cursor = conn.cursor()\n",
    "\n",
    "query = \"SELECT * FROM StateDim;\"\n",
    "cursor.execute(query)\n",
    "\n",
    "rows = cursor.fetchall()\n",
    "for row in rows:\n",
    "    print(row)\n",
    "\n",
    "# Close connection\n",
    "cursor.close()\n",
    "conn.close()"
   ]
  }
 ],
 "metadata": {
  "kernelspec": {
   "display_name": "base",
   "language": "python",
   "name": "python3"
  },
  "language_info": {
   "codemirror_mode": {
    "name": "ipython",
    "version": 3
   },
   "file_extension": ".py",
   "mimetype": "text/x-python",
   "name": "python",
   "nbconvert_exporter": "python",
   "pygments_lexer": "ipython3",
   "version": "3.12.7"
  }
 },
 "nbformat": 4,
 "nbformat_minor": 2
}
