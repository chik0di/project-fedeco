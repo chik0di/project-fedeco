{
 "cells": [
  {
   "cell_type": "markdown",
   "metadata": {},
   "source": [
    "dummy-data-generate-bulk-insert"
   ]
  },
  {
   "cell_type": "code",
   "execution_count": 4,
   "metadata": {},
   "outputs": [],
   "source": [
    "import pandas as pd\n",
    "import random\n",
    "from faker import Faker\n",
    "from sqlalchemy import create_engine\n",
    "import pyodbc"
   ]
  },
  {
   "cell_type": "code",
   "execution_count": 9,
   "metadata": {},
   "outputs": [
    {
     "name": "stdout",
     "output_type": "stream",
     "text": [
      "(3, 'Akwa Ibom                                         ', 'Uyo                                               ', 'South-South')\n",
      "(6, 'Bayelsa                                           ', 'Yenagoa                                           ', 'South-South')\n",
      "(9, 'Cross River                                       ', 'Calabar                                           ', 'South-South')\n",
      "(10, 'Delta                                             ', 'Asaba                                             ', 'South-South')\n",
      "(12, 'Edo                                               ', 'Benin City                                        ', 'South-South')\n",
      "(33, 'Rivers                                            ', 'Port Harcourt                                     ', 'South-South')\n"
     ]
    }
   ],
   "source": [
    "conn = pyodbc.connect(\n",
    "    \"DRIVER={ODBC Driver 17 for SQL Server};\"\n",
    "    \"SERVER=DESKTOP-DGGI0QJ\\\\SQLEXPRESS;\"\n",
    "    \"DATABASE=fedeco;\"\n",
    "    \"Trusted_Connection=yes;\"\n",
    ")\n",
    "cursor = conn.cursor()\n",
    "\n",
    "query = \"SELECT * FROM StateDim WHERE geo_political_zone = 'South-South';\"\n",
    "cursor.execute(query)\n",
    "\n",
    "rows = cursor.fetchall()\n",
    "for row in rows:\n",
    "    print(row)\n",
    "\n",
    "# Close connection\n",
    "cursor.close()\n",
    "conn.close()"
   ]
  }
 ],
 "metadata": {
  "kernelspec": {
   "display_name": "base",
   "language": "python",
   "name": "python3"
  },
  "language_info": {
   "codemirror_mode": {
    "name": "ipython",
    "version": 3
   },
   "file_extension": ".py",
   "mimetype": "text/x-python",
   "name": "python",
   "nbconvert_exporter": "python",
   "pygments_lexer": "ipython3",
   "version": "3.12.7"
  }
 },
 "nbformat": 4,
 "nbformat_minor": 2
}
