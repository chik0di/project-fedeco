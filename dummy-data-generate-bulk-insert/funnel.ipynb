{
 "cells": [
  {
   "cell_type": "markdown",
   "metadata": {},
   "source": [
    "dummy-data-generate-bulk-insert"
   ]
  },
  {
   "cell_type": "code",
   "execution_count": 1,
   "metadata": {},
   "outputs": [],
   "source": [
    "import pandas as pd\n",
    "import random\n",
    "from faker import Faker\n",
    "from sqlalchemy import create_engine\n",
    "import pyodbc"
   ]
  },
  {
   "cell_type": "code",
   "execution_count": 2,
   "metadata": {},
   "outputs": [
    {
     "name": "stdout",
     "output_type": "stream",
     "text": [
      "(1, 'C1627042-8B71-497A-84A4-08A735BD4383', 'Jibrin', 'Richard', 'Obasuyi', datetime.date(1977, 9, 2), 'M', 32, '08141221171', 'jibrinobasuyi4551@yandex.com')\n",
      "(2, 'A7B14CF0-EF5F-44EB-A390-CD4F98FB6952', 'Bayode', 'Jeffery', 'Jarmai', datetime.date(1995, 7, 26), 'M', 5, '07013545947', 'bayodejarmai7211@outlook.com')\n",
      "(3, 'DA04757C-7704-4FC4-AE74-860664523402', 'Ejiamatu', 'Beverly', 'Shira', datetime.date(1977, 10, 13), 'F', 2, '08020800085', 'ejiamatushira9181@fastmail.com')\n",
      "(4, 'CBF6EBD1-9597-46A9-8150-546F4846FC66', 'Chukwukadibia', 'Brian', 'Terna', datetime.date(1993, 11, 5), 'M', 28, '09160722727', 'chukwukadibiaterna4935@gmail.com')\n",
      "(5, 'C450E7CD-3E7A-4BF6-ACDB-54965BE4CE3D', 'Chibuikem', 'David', 'Matazu', datetime.date(1979, 2, 1), 'M', 17, '08172880675', 'chibuikemmatazu9607@protonmail.com')\n",
      "(6, '83F7A338-6BE7-4E6C-A882-14E0F790F050', 'Yetunde', 'Jessica', 'Ogbomo', datetime.date(1996, 10, 2), 'F', 19, '08061844307', 'yetundeogbomo6132@aol.com')\n",
      "(7, '075F6405-7568-4555-9156-A9BE9552B4C1', 'Jallo', 'Drew', 'Balarabe', datetime.date(1990, 5, 11), 'M', 17, '08117797195', 'jallobalarabe3845@yahoo.com')\n",
      "(8, '7580E51C-9EF5-4D7D-8769-4A75329521BA', 'Anietie', 'Shawn', 'Bura', datetime.date(1993, 5, 15), 'M', 36, '09030205248', 'anietiebura3571@protonmail.com')\n",
      "(9, '967A1895-5710-4E15-88F8-150644990928', 'Chukwujekwu', 'Alexander', 'Ortum', datetime.date(1987, 3, 30), 'M', 1, '08075164910', 'chukwujekwuortum7912@fastmail.com')\n",
      "(10, '681A549C-3A8F-42E1-A02A-D3724B044E5F', 'Katsina', 'Seth', 'Morenike', datetime.date(1978, 6, 14), 'M', 20, '08014791717', 'katsinamorenike6132@gmail.com')\n"
     ]
    }
   ],
   "source": [
    "conn = pyodbc.connect(\n",
    "    \"DRIVER={ODBC Driver 17 for SQL Server};\"\n",
    "    \"SERVER=DESKTOP-DGGI0QJ\\\\SQLEXPRESS;\"\n",
    "    \"DATABASE=fedeco;\"\n",
    "    \"Trusted_Connection=yes;\"\n",
    ")\n",
    "cursor = conn.cursor()\n",
    "\n",
    "query = \"SELECT * FROM StaffDim;\"\n",
    "cursor.execute(query)\n",
    "\n",
    "rows = cursor.fetchall()\n",
    "for row in rows:\n",
    "    print(row)\n",
    "\n",
    "cursor.close()\n",
    "conn.close()"
   ]
  }
 ],
 "metadata": {
  "kernelspec": {
   "display_name": "Python 3",
   "language": "python",
   "name": "python3"
  },
  "language_info": {
   "codemirror_mode": {
    "name": "ipython",
    "version": 3
   },
   "file_extension": ".py",
   "mimetype": "text/x-python",
   "name": "python",
   "nbconvert_exporter": "python",
   "pygments_lexer": "ipython3",
   "version": "3.12.4"
  }
 },
 "nbformat": 4,
 "nbformat_minor": 2
}
