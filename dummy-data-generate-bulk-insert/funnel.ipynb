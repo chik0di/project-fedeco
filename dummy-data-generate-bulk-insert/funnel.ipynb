{
 "cells": [
  {
   "cell_type": "markdown",
   "metadata": {},
   "source": [
    "dummy-data-generate-bulk-insert"
   ]
  },
  {
   "cell_type": "code",
   "execution_count": 1,
   "metadata": {},
   "outputs": [],
   "source": [
    "import pandas as pd\n",
    "import random\n",
    "from faker import Faker\n",
    "from sqlalchemy import create_engine\n",
    "import pyodbc"
   ]
  },
  {
   "cell_type": "code",
   "execution_count": null,
   "metadata": {},
   "outputs": [
    {
     "name": "stdout",
     "output_type": "stream",
     "text": [
      "(1, 'Languages')\n",
      "(2, 'Sciences')\n",
      "(3, 'Commercial')\n",
      "(4, 'Social Sciences')\n",
      "(5, 'Arts')\n",
      "(6, 'Vocational')\n",
      "(7, 'Engineering')\n"
     ]
    }
   ],
   "source": [
    "conn = pyodbc.connect(\n",
    "    \"DRIVER={ODBC Driver 17 for SQL Server};\"\n",
    "    \"SERVER=DESKTOP-DGGI0QJ\\\\SQLEXPRESS;\"\n",
    "    \"DATABASE=fedeco;\"\n",
    "    \"Trusted_Connection=yes;\"\n",
    ")\n",
    "cursor = conn.cursor()\n",
    "\n",
    "query = \"SELECT * FROM SubjectDepartmentDim ORDER BY id;\"\n",
    "cursor.execute(query)\n",
    "\n",
    "rows = cursor.fetchall()\n",
    "for row in rows:\n",
    "    print(row)\n",
    "\n",
    "cursor.close()\n",
    "conn.close()"
   ]
  }
 ],
 "metadata": {
  "kernelspec": {
   "display_name": "Python 3",
   "language": "python",
   "name": "python3"
  },
  "language_info": {
   "codemirror_mode": {
    "name": "ipython",
    "version": 3
   },
   "file_extension": ".py",
   "mimetype": "text/x-python",
   "name": "python",
   "nbconvert_exporter": "python",
   "pygments_lexer": "ipython3",
   "version": "3.12.4"
  }
 },
 "nbformat": 4,
 "nbformat_minor": 2
}
